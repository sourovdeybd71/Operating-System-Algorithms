{
 "cells": [
  {
   "cell_type": "code",
   "execution_count": 1,
   "id": "596049d9",
   "metadata": {},
   "outputs": [
    {
     "name": "stdout",
     "output_type": "stream",
     "text": [
      "Number of Process: 5\n"
     ]
    }
   ],
   "source": [
    "n = int(input(\"Number of Process: \"))"
   ]
  },
  {
   "cell_type": "code",
   "execution_count": 2,
   "id": "f774118b",
   "metadata": {},
   "outputs": [],
   "source": [
    "arr = [[0 for i in range(8)] for j in range(n)]"
   ]
  },
  {
   "cell_type": "code",
   "execution_count": 3,
   "id": "71629e59",
   "metadata": {},
   "outputs": [
    {
     "data": {
      "text/plain": [
       "[[0, 0, 0, 0, 0, 0, 0, 0],\n",
       " [0, 0, 0, 0, 0, 0, 0, 0],\n",
       " [0, 0, 0, 0, 0, 0, 0, 0],\n",
       " [0, 0, 0, 0, 0, 0, 0, 0],\n",
       " [0, 0, 0, 0, 0, 0, 0, 0]]"
      ]
     },
     "execution_count": 3,
     "metadata": {},
     "output_type": "execute_result"
    }
   ],
   "source": [
    "arr"
   ]
  },
  {
   "cell_type": "code",
   "execution_count": 4,
   "id": "e4aeb1e4",
   "metadata": {},
   "outputs": [
    {
     "name": "stdout",
     "output_type": "stream",
     "text": [
      "1 2 3\n",
      "2 5 1\n",
      "3 6 2\n",
      "4 8 5\n",
      "5 0 7\n"
     ]
    }
   ],
   "source": [
    "for i in range(n):\n",
    "    pid, at, bt = input().split()\n",
    "    arr[i][0] = int(pid)\n",
    "    arr[i][1] = int(at)\n",
    "    arr[i][2] = int(bt)\n",
    "    arr[i][3] = int(bt) # remaining burst time"
   ]
  },
  {
   "cell_type": "code",
   "execution_count": 5,
   "id": "52545567",
   "metadata": {},
   "outputs": [],
   "source": [
    "arr = sorted(arr, key=lambda x:x[1])"
   ]
  },
  {
   "cell_type": "code",
   "execution_count": 6,
   "id": "b2065b5e",
   "metadata": {},
   "outputs": [
    {
     "data": {
      "text/plain": [
       "[[5, 0, 7, 7, 0, 0, 0, 0],\n",
       " [1, 2, 3, 3, 0, 0, 0, 0],\n",
       " [2, 5, 1, 1, 0, 0, 0, 0],\n",
       " [3, 6, 2, 2, 0, 0, 0, 0],\n",
       " [4, 8, 5, 5, 0, 0, 0, 0]]"
      ]
     },
     "execution_count": 6,
     "metadata": {},
     "output_type": "execute_result"
    }
   ],
   "source": [
    "arr"
   ]
  },
  {
   "cell_type": "code",
   "execution_count": 7,
   "id": "df42e9bf",
   "metadata": {},
   "outputs": [],
   "source": [
    "import sys"
   ]
  },
  {
   "cell_type": "code",
   "execution_count": 8,
   "id": "0129f165",
   "metadata": {},
   "outputs": [],
   "source": [
    "c = 0\n",
    "current_time = arr[0][1]\n",
    "while(c<n):\n",
    "    idx = -1\n",
    "    sbt = sys.maxsize\n",
    "    for i in range(n):\n",
    "        if arr[i][1] <= current_time and arr[i][3] < sbt and arr[i][3] != 0:\n",
    "            sbt = arr[i][3]\n",
    "            idx = i\n",
    "    if idx != -1:\n",
    "        if arr[idx][2] == arr[idx][3]:\n",
    "            arr[idx][4] = current_time - arr[idx][1]\n",
    "        arr[idx][3] = arr[idx][3] - 1\n",
    "    current_time = current_time + 1\n",
    "    if arr[idx][3] == 0:\n",
    "        arr[idx][5] = current_time\n",
    "        c = c+1"
   ]
  },
  {
   "cell_type": "code",
   "execution_count": 9,
   "id": "a66f42fe",
   "metadata": {},
   "outputs": [
    {
     "data": {
      "text/plain": [
       "[[5, 0, 7, 0, 0, 13, 0, 0],\n",
       " [1, 2, 3, 0, 0, 5, 0, 0],\n",
       " [2, 5, 1, 0, 0, 6, 0, 0],\n",
       " [3, 6, 2, 0, 0, 8, 0, 0],\n",
       " [4, 8, 5, 0, 5, 18, 0, 0]]"
      ]
     },
     "execution_count": 9,
     "metadata": {},
     "output_type": "execute_result"
    }
   ],
   "source": [
    "arr"
   ]
  },
  {
   "cell_type": "code",
   "execution_count": 10,
   "id": "3f32876a",
   "metadata": {},
   "outputs": [],
   "source": [
    "arr = sorted(arr, key=lambda x:x[0])"
   ]
  },
  {
   "cell_type": "code",
   "execution_count": 11,
   "id": "e0f8e3c8",
   "metadata": {},
   "outputs": [
    {
     "data": {
      "text/plain": [
       "[[1, 2, 3, 0, 0, 5, 0, 0],\n",
       " [2, 5, 1, 0, 0, 6, 0, 0],\n",
       " [3, 6, 2, 0, 0, 8, 0, 0],\n",
       " [4, 8, 5, 0, 5, 18, 0, 0],\n",
       " [5, 0, 7, 0, 0, 13, 0, 0]]"
      ]
     },
     "execution_count": 11,
     "metadata": {},
     "output_type": "execute_result"
    }
   ],
   "source": [
    "arr"
   ]
  },
  {
   "cell_type": "code",
   "execution_count": 12,
   "id": "3dfefad6",
   "metadata": {},
   "outputs": [],
   "source": [
    "for i in range(n):\n",
    "    arr[i][7] = arr[i][5] - arr[i][1]\n",
    "    arr[i][6] = arr[i][7] - arr[i][2]"
   ]
  },
  {
   "cell_type": "code",
   "execution_count": 13,
   "id": "6e92bc43",
   "metadata": {},
   "outputs": [
    {
     "data": {
      "text/plain": [
       "[[1, 2, 3, 0, 0, 5, 0, 3],\n",
       " [2, 5, 1, 0, 0, 6, 0, 1],\n",
       " [3, 6, 2, 0, 0, 8, 0, 2],\n",
       " [4, 8, 5, 0, 5, 18, 5, 10],\n",
       " [5, 0, 7, 0, 0, 13, 6, 13]]"
      ]
     },
     "execution_count": 13,
     "metadata": {},
     "output_type": "execute_result"
    }
   ],
   "source": [
    "arr"
   ]
  },
  {
   "cell_type": "code",
   "execution_count": null,
   "id": "bcc41d99",
   "metadata": {},
   "outputs": [],
   "source": []
  }
 ],
 "metadata": {
  "kernelspec": {
   "display_name": "Python 3 (ipykernel)",
   "language": "python",
   "name": "python3"
  },
  "language_info": {
   "codemirror_mode": {
    "name": "ipython",
    "version": 3
   },
   "file_extension": ".py",
   "mimetype": "text/x-python",
   "name": "python",
   "nbconvert_exporter": "python",
   "pygments_lexer": "ipython3",
   "version": "3.9.7"
  }
 },
 "nbformat": 4,
 "nbformat_minor": 5
}
