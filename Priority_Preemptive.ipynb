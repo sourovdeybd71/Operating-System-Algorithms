{
 "cells": [
  {
   "cell_type": "code",
   "execution_count": 1,
   "id": "e7a263e0",
   "metadata": {},
   "outputs": [
    {
     "name": "stdout",
     "output_type": "stream",
     "text": [
      "Number of process :5\n"
     ]
    }
   ],
   "source": [
    "n=int(input(\"Number of process :\"))"
   ]
  },
  {
   "cell_type": "code",
   "execution_count": 2,
   "id": "e8110ef9",
   "metadata": {},
   "outputs": [],
   "source": [
    "arr = [[0 for i in range(9)] for j in range(n)]"
   ]
  },
  {
   "cell_type": "code",
   "execution_count": 3,
   "id": "073572bf",
   "metadata": {},
   "outputs": [
    {
     "name": "stdout",
     "output_type": "stream",
     "text": [
      "1 0 2 12\n",
      "2 1 4 4\n",
      "3 0 6 10\n",
      "4 2 1 3\n",
      "5 3 5 6\n"
     ]
    }
   ],
   "source": [
    "for i in range(n):\n",
    "    pid,at,bt,pr = input().split()\n",
    "    arr[i][0]=int(pid)\n",
    "    arr[i][1]=int(at)\n",
    "    arr[i][2]=int(bt)\n",
    "    arr[i][3]=int(bt)\n",
    "    arr[i][8]=int(pr)"
   ]
  },
  {
   "cell_type": "code",
   "execution_count": 4,
   "id": "c2b0b3f0",
   "metadata": {},
   "outputs": [
    {
     "data": {
      "text/plain": [
       "[[1, 0, 2, 2, 0, 0, 0, 0, 12],\n",
       " [2, 1, 4, 4, 0, 0, 0, 0, 4],\n",
       " [3, 0, 6, 6, 0, 0, 0, 0, 10],\n",
       " [4, 2, 1, 1, 0, 0, 0, 0, 3],\n",
       " [5, 3, 5, 5, 0, 0, 0, 0, 6]]"
      ]
     },
     "execution_count": 4,
     "metadata": {},
     "output_type": "execute_result"
    }
   ],
   "source": [
    "arr"
   ]
  },
  {
   "cell_type": "code",
   "execution_count": 5,
   "id": "a4632e37",
   "metadata": {},
   "outputs": [],
   "source": [
    "arr = sorted(arr,key= lambda x:x[1])"
   ]
  },
  {
   "cell_type": "code",
   "execution_count": 6,
   "id": "d4cb2318",
   "metadata": {},
   "outputs": [
    {
     "data": {
      "text/plain": [
       "[[1, 0, 2, 2, 0, 0, 0, 0, 12],\n",
       " [3, 0, 6, 6, 0, 0, 0, 0, 10],\n",
       " [2, 1, 4, 4, 0, 0, 0, 0, 4],\n",
       " [4, 2, 1, 1, 0, 0, 0, 0, 3],\n",
       " [5, 3, 5, 5, 0, 0, 0, 0, 6]]"
      ]
     },
     "execution_count": 6,
     "metadata": {},
     "output_type": "execute_result"
    }
   ],
   "source": [
    "arr"
   ]
  },
  {
   "cell_type": "code",
   "execution_count": 7,
   "id": "171c03f0",
   "metadata": {},
   "outputs": [],
   "source": [
    "import sys"
   ]
  },
  {
   "cell_type": "code",
   "execution_count": 8,
   "id": "3664a727",
   "metadata": {},
   "outputs": [],
   "source": [
    "# when highest priority = smallest/lowest number\n",
    "\n",
    "c = 0\n",
    "current_time = arr[0][1]\n",
    "while(c<n):\n",
    "    idx = -1\n",
    "    spr = sys.maxsize\n",
    "    for i in range(n):\n",
    "        if arr[i][1] <= current_time and arr[i][8] < spr and arr[i][3] != 0:\n",
    "            spr = arr[i][8]\n",
    "            idx = i\n",
    "    if idx != -1:\n",
    "        if arr[idx][2] == arr[idx][3]:\n",
    "            arr[idx][4] = current_time - arr[idx][1]\n",
    "        arr[idx][3] = arr[idx][3] - 1\n",
    "    current_time = current_time + 1\n",
    "    if arr[idx][3] == 0:\n",
    "        arr[idx][5] = current_time\n",
    "        c = c+1"
   ]
  },
  {
   "cell_type": "code",
   "execution_count": 9,
   "id": "c52097b3",
   "metadata": {},
   "outputs": [
    {
     "data": {
      "text/plain": [
       "[[1, 0, 2, 0, 16, 18, 0, 0, 12],\n",
       " [3, 0, 6, 0, 0, 16, 0, 0, 10],\n",
       " [2, 1, 4, 0, 0, 6, 0, 0, 4],\n",
       " [4, 2, 1, 0, 0, 3, 0, 0, 3],\n",
       " [5, 3, 5, 0, 3, 11, 0, 0, 6]]"
      ]
     },
     "execution_count": 9,
     "metadata": {},
     "output_type": "execute_result"
    }
   ],
   "source": [
    "arr"
   ]
  },
  {
   "cell_type": "code",
   "execution_count": 10,
   "id": "d0db210a",
   "metadata": {},
   "outputs": [],
   "source": [
    "arr = sorted(arr,key= lambda x:x[0])"
   ]
  },
  {
   "cell_type": "code",
   "execution_count": 11,
   "id": "626e9b6a",
   "metadata": {},
   "outputs": [
    {
     "data": {
      "text/plain": [
       "[[1, 0, 2, 0, 16, 18, 0, 0, 12],\n",
       " [2, 1, 4, 0, 0, 6, 0, 0, 4],\n",
       " [3, 0, 6, 0, 0, 16, 0, 0, 10],\n",
       " [4, 2, 1, 0, 0, 3, 0, 0, 3],\n",
       " [5, 3, 5, 0, 3, 11, 0, 0, 6]]"
      ]
     },
     "execution_count": 11,
     "metadata": {},
     "output_type": "execute_result"
    }
   ],
   "source": [
    "arr"
   ]
  },
  {
   "cell_type": "code",
   "execution_count": 12,
   "id": "21775d2a",
   "metadata": {},
   "outputs": [],
   "source": [
    "for i in range(n):\n",
    "    arr[i][7] = arr[i][5] - arr[i][1]\n",
    "    arr[i][6] = arr[i][7] - arr[i][2]"
   ]
  },
  {
   "cell_type": "code",
   "execution_count": 13,
   "id": "79ee46d4",
   "metadata": {},
   "outputs": [
    {
     "data": {
      "text/plain": [
       "[[1, 0, 2, 0, 16, 18, 16, 18, 12],\n",
       " [2, 1, 4, 0, 0, 6, 1, 5, 4],\n",
       " [3, 0, 6, 0, 0, 16, 10, 16, 10],\n",
       " [4, 2, 1, 0, 0, 3, 0, 1, 3],\n",
       " [5, 3, 5, 0, 3, 11, 3, 8, 6]]"
      ]
     },
     "execution_count": 13,
     "metadata": {},
     "output_type": "execute_result"
    }
   ],
   "source": [
    "arr"
   ]
  },
  {
   "cell_type": "code",
   "execution_count": 14,
   "id": "42bcf2ef",
   "metadata": {},
   "outputs": [],
   "source": [
    "# when highest priority = largest/highest number\n",
    "\n",
    "c = 0\n",
    "current_time = arr[0][1]\n",
    "while(c<n):\n",
    "    idx = -1\n",
    "    hpr = -1\n",
    "    for i in range(n):\n",
    "        if arr[i][1] <= current_time and arr[i][8] > hpr and arr[i][3] != 0:\n",
    "            hpr = arr[i][8]\n",
    "            idx = i\n",
    "    if idx != -1:\n",
    "        if arr[idx][2] == arr[idx][3]:\n",
    "            arr[idx][4] = current_time - arr[idx][1]\n",
    "        arr[idx][3] = arr[idx][3] - 1\n",
    "    current_time = current_time + 1\n",
    "    if arr[idx][3] == 0:\n",
    "        arr[idx][5] = current_time\n",
    "        c = c+1"
   ]
  },
  {
   "cell_type": "code",
   "execution_count": null,
   "id": "fe25b9b1",
   "metadata": {},
   "outputs": [],
   "source": []
  }
 ],
 "metadata": {
  "kernelspec": {
   "display_name": "Python 3 (ipykernel)",
   "language": "python",
   "name": "python3"
  },
  "language_info": {
   "codemirror_mode": {
    "name": "ipython",
    "version": 3
   },
   "file_extension": ".py",
   "mimetype": "text/x-python",
   "name": "python",
   "nbconvert_exporter": "python",
   "pygments_lexer": "ipython3",
   "version": "3.9.7"
  }
 },
 "nbformat": 4,
 "nbformat_minor": 5
}
