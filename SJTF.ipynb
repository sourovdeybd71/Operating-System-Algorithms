{
 "cells": [
  {
   "cell_type": "code",
   "execution_count": 1,
   "metadata": {},
   "outputs": [
    {
     "name": "stdout",
     "output_type": "stream",
     "text": [
      "Number of prccess: 4\n"
     ]
    }
   ],
   "source": [
    "n=int(input(\"Number of prccess: \"))"
   ]
  },
  {
   "cell_type": "code",
   "execution_count": 2,
   "metadata": {},
   "outputs": [],
   "source": [
    "arr=[[0 for i in range(7)] for j in range(n)]"
   ]
  },
  {
   "cell_type": "code",
   "execution_count": 3,
   "metadata": {},
   "outputs": [
    {
     "data": {
      "text/plain": [
       "[[0, 0, 0, 0, 0, 0, 0],\n",
       " [0, 0, 0, 0, 0, 0, 0],\n",
       " [0, 0, 0, 0, 0, 0, 0],\n",
       " [0, 0, 0, 0, 0, 0, 0]]"
      ]
     },
     "execution_count": 3,
     "metadata": {},
     "output_type": "execute_result"
    }
   ],
   "source": [
    "arr\n"
   ]
  },
  {
   "cell_type": "code",
   "execution_count": 4,
   "metadata": {},
   "outputs": [
    {
     "name": "stdout",
     "output_type": "stream",
     "text": [
      "1 9 5\n",
      "2 10 3\n",
      "3 8 3\n",
      "4 0 7\n"
     ]
    }
   ],
   "source": [
    "for i in range(n):\n",
    "    pid, at, bt = input().split()\n",
    "    arr[i][0]=int(pid)\n",
    "    arr[i][1]=int(at)\n",
    "    arr[i][2]=int(bt)"
   ]
  },
  {
   "cell_type": "code",
   "execution_count": 5,
   "metadata": {},
   "outputs": [
    {
     "data": {
      "text/plain": [
       "[[1, 9, 5, 0, 0, 0, 0],\n",
       " [2, 10, 3, 0, 0, 0, 0],\n",
       " [3, 8, 3, 0, 0, 0, 0],\n",
       " [4, 0, 7, 0, 0, 0, 0]]"
      ]
     },
     "execution_count": 5,
     "metadata": {},
     "output_type": "execute_result"
    }
   ],
   "source": [
    "arr"
   ]
  },
  {
   "cell_type": "code",
   "execution_count": 6,
   "metadata": {},
   "outputs": [
    {
     "data": {
      "text/plain": [
       "[[4, 0, 7, 0, 0, 0, 0],\n",
       " [3, 8, 3, 0, 0, 0, 0],\n",
       " [1, 9, 5, 0, 0, 0, 0],\n",
       " [2, 10, 3, 0, 0, 0, 0]]"
      ]
     },
     "execution_count": 6,
     "metadata": {},
     "output_type": "execute_result"
    }
   ],
   "source": [
    "arr = sorted(arr, key=lambda x:x[1])\n",
    "arr"
   ]
  },
  {
   "cell_type": "code",
   "execution_count": 9,
   "metadata": {},
   "outputs": [],
   "source": [
    "def bubble_sort(x,k):\n",
    "    for i in range(k,len(x)):\n",
    "        for j in range(k,len(x)-i-1+k):\n",
    "            if x[j][2]>x[j+1][2] and arr[j][1]<=current_time and arr[j+1][1]<=current_time:\n",
    "                temp= x[j]\n",
    "                x[j]=x[j+1]\n",
    "                x[j+1]=temp\n",
    "        \n",
    "    return x\n",
    "    "
   ]
  },
  {
   "cell_type": "code",
   "execution_count": 10,
   "metadata": {},
   "outputs": [],
   "source": [
    "\n",
    "avg_rt=0\n",
    "avg_ct=0\n",
    "avg_wt=0\n",
    "avg_tt=0\n",
    "current_time=0\n",
    "for i in range(n):\n",
    "    arr=bubble_sort(arr, i)\n",
    "    at=arr[i][1]\n",
    "    bt=arr[i][2]\n",
    "    if current_time<at:\n",
    "        current_time=at\n",
    "    starting_time=current_time\n",
    "    ct=starting_time+bt\n",
    "    arr[i][3]=starting_time-at #RT\n",
    "    arr[i][4]=ct\n",
    "    arr[i][6]=ct-at#TT\n",
    "    arr[i][5]=arr[i][6]-bt#WT\n",
    "    current_time=ct\n",
    "    \n",
    "    avg_rt=avg_rt+arr[i][3]\n",
    "    avg_ct=avg_ct+arr[i][4]\n",
    "    avg_wt=avg_wt+arr[i][5]\n",
    "    avg_tt=avg_tt+arr[i][6]\n",
    "    "
   ]
  },
  {
   "cell_type": "code",
   "execution_count": 11,
   "metadata": {},
   "outputs": [
    {
     "data": {
      "text/plain": [
       "[[4, 0, 7, 0, 7, 0, 7],\n",
       " [3, 8, 3, 0, 11, 0, 3],\n",
       " [2, 10, 3, 1, 14, 1, 4],\n",
       " [1, 9, 5, 5, 19, 5, 10]]"
      ]
     },
     "execution_count": 11,
     "metadata": {},
     "output_type": "execute_result"
    }
   ],
   "source": [
    "arr"
   ]
  },
  {
   "cell_type": "code",
   "execution_count": 12,
   "metadata": {},
   "outputs": [
    {
     "name": "stdout",
     "output_type": "stream",
     "text": [
      "AVG RT:  1.5\n",
      "AVG CT: 12.75\n",
      "AVG WT:  1.5\n",
      "AVG TT:  6.0\n"
     ]
    }
   ],
   "source": [
    "print(\"AVG RT: \",avg_rt/n)\n",
    "print(\"AVG CT: \"+str(avg_ct/n))\n",
    "print(\"AVG WT: \",avg_wt/n)\n",
    "print(\"AVG TT: \",avg_tt/n)"
   ]
  },
  {
   "cell_type": "code",
   "execution_count": null,
   "metadata": {},
   "outputs": [],
   "source": []
  }
 ],
 "metadata": {
  "kernelspec": {
   "display_name": "Python 3",
   "language": "python",
   "name": "python3"
  },
  "language_info": {
   "codemirror_mode": {
    "name": "ipython",
    "version": 3
   },
   "file_extension": ".py",
   "mimetype": "text/x-python",
   "name": "python",
   "nbconvert_exporter": "python",
   "pygments_lexer": "ipython3",
   "version": "3.8.5"
  }
 },
 "nbformat": 4,
 "nbformat_minor": 4
}
