{
 "cells": [
  {
   "cell_type": "code",
   "execution_count": 1,
   "id": "a38f94b3",
   "metadata": {},
   "outputs": [
    {
     "name": "stdout",
     "output_type": "stream",
     "text": [
      "Nb of process: 4\n"
     ]
    }
   ],
   "source": [
    "n = int(input(\"Nb of process: \"))"
   ]
  },
  {
   "cell_type": "code",
   "execution_count": 2,
   "id": "33136daa",
   "metadata": {},
   "outputs": [],
   "source": [
    "arr = [[0 for i in range(7)] for j in range(n)]"
   ]
  },
  {
   "cell_type": "code",
   "execution_count": 3,
   "id": "58d8719a",
   "metadata": {},
   "outputs": [
    {
     "name": "stdout",
     "output_type": "stream",
     "text": [
      "1 10 5\n",
      "2 9 3\n",
      "3 8 3\n",
      "4 0 7\n"
     ]
    }
   ],
   "source": [
    "for i in range(n):\n",
    "    pid, at, bt = input().split()\n",
    "    arr[i][0] = int(pid)\n",
    "    arr[i][1] = int(at)\n",
    "    arr[i][2] = int(bt)"
   ]
  },
  {
   "cell_type": "code",
   "execution_count": 4,
   "id": "f97c49c8",
   "metadata": {},
   "outputs": [
    {
     "data": {
      "text/plain": [
       "[[1, 10, 5, 0, 0, 0, 0],\n",
       " [2, 9, 3, 0, 0, 0, 0],\n",
       " [3, 8, 3, 0, 0, 0, 0],\n",
       " [4, 0, 7, 0, 0, 0, 0]]"
      ]
     },
     "execution_count": 4,
     "metadata": {},
     "output_type": "execute_result"
    }
   ],
   "source": [
    "arr\n"
   ]
  },
  {
   "cell_type": "code",
   "execution_count": 5,
   "id": "2d9ad332",
   "metadata": {},
   "outputs": [],
   "source": [
    "arr = sorted(arr, key=lambda x:x[1])"
   ]
  },
  {
   "cell_type": "code",
   "execution_count": 6,
   "id": "7e2723f8",
   "metadata": {},
   "outputs": [
    {
     "data": {
      "text/plain": [
       "[[4, 0, 7, 0, 0, 0, 0],\n",
       " [3, 8, 3, 0, 0, 0, 0],\n",
       " [2, 9, 3, 0, 0, 0, 0],\n",
       " [1, 10, 5, 0, 0, 0, 0]]"
      ]
     },
     "execution_count": 6,
     "metadata": {},
     "output_type": "execute_result"
    }
   ],
   "source": [
    "arr"
   ]
  },
  {
   "cell_type": "code",
   "execution_count": 7,
   "id": "3d8f334b",
   "metadata": {},
   "outputs": [],
   "source": [
    "def bubbleSort(arr, k):\n",
    "    for i in range(k, len(arr)):\n",
    "        for j in range(k, len(arr) + k - i - 1):\n",
    "            if arr[j][2] > arr[j+1][2] and arr[j][1] <= current_time and arr[j+1][1] <= current_time :\n",
    "                arr[j], arr[j+1] = arr[j+1], arr[j]\n",
    "    return(arr)\n",
    "        "
   ]
  },
  {
   "cell_type": "code",
   "execution_count": 8,
   "id": "fbebc465",
   "metadata": {},
   "outputs": [],
   "source": [
    "avg_rt = 0\n",
    "avg_ct = 0\n",
    "avg_wt = 0\n",
    "avg_tt = 0\n",
    "\n",
    "current_time = 0\n",
    "for i in range(n):\n",
    "    bubbleSort(arr, i)\n",
    "    at = arr[i][1]\n",
    "    bt = arr[i][2]\n",
    "    if current_time < at:\n",
    "        current_time = at\n",
    "    starting_time = current_time\n",
    "    ct = starting_time + bt\n",
    "    \n",
    "    arr[i][3] = starting_time - at  #RT\n",
    "    arr[i][4] = ct  #CT\n",
    "    arr[i][6] = ct - at #TT\n",
    "    arr[i][5] = arr[i][6] - bt #WT\n",
    "    \n",
    "    #avg\n",
    "    avg_rt = avg_rt + arr[i][3]\n",
    "    avg_ct = avg_ct + arr[i][4]\n",
    "    avg_wt = avg_wt + arr[i][5]\n",
    "    avg_tt = avg_tt + arr[i][6]\n",
    "    \n",
    "    #update current time\n",
    "    current_time = ct\n",
    "    "
   ]
  },
  {
   "cell_type": "code",
   "execution_count": 9,
   "id": "216d5da0",
   "metadata": {},
   "outputs": [
    {
     "data": {
      "text/plain": [
       "[[4, 0, 7, 0, 7, 0, 7],\n",
       " [3, 8, 3, 0, 11, 0, 3],\n",
       " [2, 9, 3, 2, 14, 2, 5],\n",
       " [1, 10, 5, 4, 19, 4, 9]]"
      ]
     },
     "execution_count": 9,
     "metadata": {},
     "output_type": "execute_result"
    }
   ],
   "source": [
    "arr"
   ]
  },
  {
   "cell_type": "code",
   "execution_count": 10,
   "id": "b7f36d7e",
   "metadata": {},
   "outputs": [
    {
     "name": "stdout",
     "output_type": "stream",
     "text": [
      "AVG_RT: 1.5\n",
      "AVG_CT: 12.75\n",
      "AVG_WT: 1.5\n",
      "AVG_TT: 6.0\n",
      "\n"
     ]
    }
   ],
   "source": [
    "avg_rt = avg_rt / n\n",
    "avg_ct = avg_ct / n\n",
    "avg_wt = avg_wt / n\n",
    "avg_tt = avg_tt / n\n",
    "\n",
    "print(\"AVG_RT: \" +str(avg_rt) + \"\\n\" + \"AVG_CT: \" +str(avg_ct) + \"\\n\" +\"AVG_WT: \" +str(avg_wt) + \"\\n\" +\"AVG_TT: \" +str(avg_tt) + \"\\n\" )"
   ]
  },
  {
   "cell_type": "code",
   "execution_count": 11,
   "id": "fbef4ac3",
   "metadata": {},
   "outputs": [],
   "source": [
    "arr = sorted(arr, key=lambda x:x[0])"
   ]
  },
  {
   "cell_type": "code",
   "execution_count": 12,
   "id": "296291cf",
   "metadata": {},
   "outputs": [
    {
     "data": {
      "text/plain": [
       "[[1, 10, 5, 4, 19, 4, 9],\n",
       " [2, 9, 3, 2, 14, 2, 5],\n",
       " [3, 8, 3, 0, 11, 0, 3],\n",
       " [4, 0, 7, 0, 7, 0, 7]]"
      ]
     },
     "execution_count": 12,
     "metadata": {},
     "output_type": "execute_result"
    }
   ],
   "source": [
    "arr"
   ]
  },
  {
   "cell_type": "code",
   "execution_count": null,
   "id": "b695779e",
   "metadata": {},
   "outputs": [],
   "source": []
  }
 ],
 "metadata": {
  "kernelspec": {
   "display_name": "Python 3 (ipykernel)",
   "language": "python",
   "name": "python3"
  },
  "language_info": {
   "codemirror_mode": {
    "name": "ipython",
    "version": 3
   },
   "file_extension": ".py",
   "mimetype": "text/x-python",
   "name": "python",
   "nbconvert_exporter": "python",
   "pygments_lexer": "ipython3",
   "version": "3.9.7"
  }
 },
 "nbformat": 4,
 "nbformat_minor": 5
}
