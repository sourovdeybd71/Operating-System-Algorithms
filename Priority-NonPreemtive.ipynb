{
 "cells": [
  {
   "cell_type": "code",
   "execution_count": 1,
   "id": "e56b53d4",
   "metadata": {},
   "outputs": [
    {
     "name": "stdout",
     "output_type": "stream",
     "text": [
      "Number of process :5\n"
     ]
    }
   ],
   "source": [
    "n=int(input(\"Number of process :\"))"
   ]
  },
  {
   "cell_type": "code",
   "execution_count": 2,
   "id": "eb4a5eff",
   "metadata": {},
   "outputs": [],
   "source": [
    "arr = [[0 for i in range(8)] for j in range(n)]"
   ]
  },
  {
   "cell_type": "code",
   "execution_count": 3,
   "id": "f1dc3da8",
   "metadata": {},
   "outputs": [
    {
     "name": "stdout",
     "output_type": "stream",
     "text": [
      "1 3 5 8\n",
      "2 0 2 6\n",
      "3 5 2 1\n",
      "4 7 1 5\n",
      "5 8 7 2\n"
     ]
    }
   ],
   "source": [
    "for i in range(n):\n",
    "    pid, at, bt, pr= input().split()\n",
    "    arr[i][0]=int(pid)\n",
    "    arr[i][1]=int(at)\n",
    "    arr[i][2]=int(bt)\n",
    "    arr[i][3]=int(pr)"
   ]
  },
  {
   "cell_type": "code",
   "execution_count": 5,
   "id": "1d0822c3",
   "metadata": {},
   "outputs": [],
   "source": [
    "arr = sorted(arr,key= lambda x:x[1])"
   ]
  },
  {
   "cell_type": "code",
   "execution_count": 6,
   "id": "020f179b",
   "metadata": {},
   "outputs": [
    {
     "data": {
      "text/plain": [
       "[[2, 0, 2, 6, 0, 0, 0, 0],\n",
       " [1, 3, 5, 8, 0, 0, 0, 0],\n",
       " [3, 5, 2, 1, 0, 0, 0, 0],\n",
       " [4, 7, 1, 5, 0, 0, 0, 0],\n",
       " [5, 8, 7, 2, 0, 0, 0, 0]]"
      ]
     },
     "execution_count": 6,
     "metadata": {},
     "output_type": "execute_result"
    }
   ],
   "source": [
    "arr"
   ]
  },
  {
   "cell_type": "code",
   "execution_count": 7,
   "id": "7f6e682c",
   "metadata": {},
   "outputs": [],
   "source": [
    "def bubbleSort(arr,k):\n",
    "    for i in range(k,len(arr)):\n",
    "\n",
    "        for j in range(k,len(arr)+k-i-1):\n",
    "            \n",
    "            if arr[j][3] < arr[j+1][3] and arr[j][1] <= current_time and arr[j+1][1] <= current_time:\n",
    "                arr[j],arr[j+1] = arr[j+1], arr[j]\n",
    "    \n",
    "    return(arr)"
   ]
  },
  {
   "cell_type": "code",
   "execution_count": 8,
   "id": "7d09d5ed",
   "metadata": {},
   "outputs": [],
   "source": [
    "avg_rt = 0\n",
    "avg_ct = 0\n",
    "avg_wt = 0\n",
    "avg_tt = 0\n",
    "current_time = 0\n",
    "for i in range(n):\n",
    "    bubbleSort(arr,i)\n",
    "    at = arr[i][1]\n",
    "    bt = arr[i][2]\n",
    "    if current_time < at:\n",
    "        current_time = at\n",
    "    starting_time = current_time\n",
    "    ct = starting_time + bt\n",
    "    arr[i][4] = starting_time - at #RT\n",
    "    arr[i][5] = ct                 #CT\n",
    "    arr[i][7] = ct - at            #TT\n",
    "    arr[i][6] = arr[i][7] - bt     #WT\n",
    "    \n",
    "    avg_rt = avg_rt + arr[i][4]\n",
    "    avg_ct = avg_ct + arr[i][5]\n",
    "    avg_wt = avg_wt + arr[i][6]\n",
    "    avg_tt = avg_tt + arr[i][7] \n",
    "    \n",
    "    current_time = ct"
   ]
  },
  {
   "cell_type": "code",
   "execution_count": 9,
   "id": "0ead55eb",
   "metadata": {},
   "outputs": [],
   "source": [
    "arr = sorted(arr,key= lambda x:x[0])\n"
   ]
  },
  {
   "cell_type": "code",
   "execution_count": 10,
   "id": "19af764d",
   "metadata": {},
   "outputs": [
    {
     "data": {
      "text/plain": [
       "[[1, 3, 5, 8, 0, 8, 0, 5],\n",
       " [2, 0, 2, 6, 0, 2, 0, 2],\n",
       " [3, 5, 2, 1, 11, 18, 11, 13],\n",
       " [4, 7, 1, 5, 1, 9, 1, 2],\n",
       " [5, 8, 7, 2, 1, 16, 1, 8]]"
      ]
     },
     "execution_count": 10,
     "metadata": {},
     "output_type": "execute_result"
    }
   ],
   "source": [
    "arr"
   ]
  },
  {
   "cell_type": "code",
   "execution_count": null,
   "id": "31167b3b",
   "metadata": {},
   "outputs": [],
   "source": []
  }
 ],
 "metadata": {
  "kernelspec": {
   "display_name": "Python 3 (ipykernel)",
   "language": "python",
   "name": "python3"
  },
  "language_info": {
   "codemirror_mode": {
    "name": "ipython",
    "version": 3
   },
   "file_extension": ".py",
   "mimetype": "text/x-python",
   "name": "python",
   "nbconvert_exporter": "python",
   "pygments_lexer": "ipython3",
   "version": "3.9.7"
  }
 },
 "nbformat": 4,
 "nbformat_minor": 5
}
