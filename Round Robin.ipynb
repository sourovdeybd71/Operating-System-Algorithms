{
 "cells": [
  {
   "cell_type": "code",
   "execution_count": 1,
   "id": "51d4f83f",
   "metadata": {},
   "outputs": [
    {
     "name": "stdout",
     "output_type": "stream",
     "text": [
      "Number of process :5\n"
     ]
    }
   ],
   "source": [
    "n=int(input(\"Number of process :\"))"
   ]
  },
  {
   "cell_type": "code",
   "execution_count": 2,
   "id": "e41b9924",
   "metadata": {},
   "outputs": [],
   "source": [
    "arr = [[0 for i in range(8)] for j in range(n)]"
   ]
  },
  {
   "cell_type": "code",
   "execution_count": 3,
   "id": "e8192b1a",
   "metadata": {},
   "outputs": [
    {
     "name": "stdout",
     "output_type": "stream",
     "text": [
      "1 0 10\n",
      "2 3 6\n",
      "3 8 4\n",
      "4 5 3\n",
      "5 1 1\n"
     ]
    }
   ],
   "source": [
    "for i in range(n):\n",
    "    pid, at, bt = input().split()\n",
    "    arr[i][0] = int(pid)\n",
    "    arr[i][1] = int(at)\n",
    "    arr[i][2] = int(bt)\n",
    "    arr[i][3] = int(bt) # remaining burst time"
   ]
  },
  {
   "cell_type": "code",
   "execution_count": 4,
   "id": "dd5fd1a7",
   "metadata": {},
   "outputs": [
    {
     "data": {
      "text/plain": [
       "[[1, 0, 10, 10, 0, 0, 0, 0],\n",
       " [2, 3, 6, 6, 0, 0, 0, 0],\n",
       " [3, 8, 4, 4, 0, 0, 0, 0],\n",
       " [4, 5, 3, 3, 0, 0, 0, 0],\n",
       " [5, 1, 1, 1, 0, 0, 0, 0]]"
      ]
     },
     "execution_count": 4,
     "metadata": {},
     "output_type": "execute_result"
    }
   ],
   "source": [
    "arr"
   ]
  },
  {
   "cell_type": "code",
   "execution_count": 5,
   "id": "2b85dbc3",
   "metadata": {},
   "outputs": [],
   "source": [
    "arr = sorted(arr,key= lambda x:x[1])"
   ]
  },
  {
   "cell_type": "code",
   "execution_count": 6,
   "id": "62b63adf",
   "metadata": {},
   "outputs": [
    {
     "data": {
      "text/plain": [
       "[[1, 0, 10, 10, 0, 0, 0, 0],\n",
       " [5, 1, 1, 1, 0, 0, 0, 0],\n",
       " [2, 3, 6, 6, 0, 0, 0, 0],\n",
       " [4, 5, 3, 3, 0, 0, 0, 0],\n",
       " [3, 8, 4, 4, 0, 0, 0, 0]]"
      ]
     },
     "execution_count": 6,
     "metadata": {},
     "output_type": "execute_result"
    }
   ],
   "source": [
    "arr"
   ]
  },
  {
   "cell_type": "code",
   "execution_count": 7,
   "id": "5ed13296",
   "metadata": {},
   "outputs": [],
   "source": [
    "import sys"
   ]
  },
  {
   "cell_type": "code",
   "execution_count": 8,
   "id": "89eaaadf",
   "metadata": {},
   "outputs": [
    {
     "name": "stdout",
     "output_type": "stream",
     "text": [
      "Time Quanta :2\n"
     ]
    }
   ],
   "source": [
    "tq = int(input(\"Time Quanta :\"))\n",
    "queue = []"
   ]
  },
  {
   "cell_type": "code",
   "execution_count": 9,
   "id": "1c7f0df9",
   "metadata": {},
   "outputs": [
    {
     "name": "stdout",
     "output_type": "stream",
     "text": [
      "1\n",
      "5\n",
      "1\n",
      "2\n",
      "4\n",
      "1\n",
      "2\n",
      "3\n",
      "4\n",
      "1\n",
      "2\n",
      "3\n",
      "1\n"
     ]
    }
   ],
   "source": [
    "c = 0\n",
    "visited = []\n",
    "current_time = arr[0][1]\n",
    "queue.append(0)\n",
    "visited.append(0)\n",
    "\n",
    "while(c<n):\n",
    "    idx = queue.pop(0)  \n",
    "    print(arr[idx][0])\n",
    "    if arr[idx][2] == arr[idx][3]:\n",
    "        arr[idx][4] = current_time - arr[idx][1]\n",
    "        \n",
    "    ex_time = min(arr[idx][3], tq)\n",
    "    arr[idx][3] = arr[idx][3] - ex_time\n",
    "    \n",
    "    current_time = current_time + ex_time\n",
    "    \n",
    "    for i in range(n):\n",
    "        if arr[i][1] <= current_time and i not in visited and i != idx:\n",
    "            queue.append(i)\n",
    "            visited.append(i)\n",
    "    \n",
    "    if arr[idx][3] == 0:\n",
    "        arr[idx][5] = current_time\n",
    "        c = c+1\n",
    "    else:\n",
    "        queue.append(idx)"
   ]
  },
  {
   "cell_type": "code",
   "execution_count": 10,
   "id": "4dd01f02",
   "metadata": {},
   "outputs": [
    {
     "data": {
      "text/plain": [
       "[[1, 0, 10, 0, 0, 24, 0, 0],\n",
       " [5, 1, 1, 0, 1, 3, 0, 0],\n",
       " [2, 3, 6, 0, 2, 20, 0, 0],\n",
       " [4, 5, 3, 0, 2, 16, 0, 0],\n",
       " [3, 8, 4, 0, 5, 22, 0, 0]]"
      ]
     },
     "execution_count": 10,
     "metadata": {},
     "output_type": "execute_result"
    }
   ],
   "source": [
    "arr"
   ]
  },
  {
   "cell_type": "code",
   "execution_count": 11,
   "id": "c14395e8",
   "metadata": {},
   "outputs": [],
   "source": [
    "arr = sorted(arr, key=lambda x:x[0])"
   ]
  },
  {
   "cell_type": "code",
   "execution_count": 12,
   "id": "05931d88",
   "metadata": {},
   "outputs": [
    {
     "data": {
      "text/plain": [
       "[[1, 0, 10, 0, 0, 24, 0, 0],\n",
       " [2, 3, 6, 0, 2, 20, 0, 0],\n",
       " [3, 8, 4, 0, 5, 22, 0, 0],\n",
       " [4, 5, 3, 0, 2, 16, 0, 0],\n",
       " [5, 1, 1, 0, 1, 3, 0, 0]]"
      ]
     },
     "execution_count": 12,
     "metadata": {},
     "output_type": "execute_result"
    }
   ],
   "source": [
    "arr"
   ]
  },
  {
   "cell_type": "code",
   "execution_count": 13,
   "id": "2b9f1232",
   "metadata": {},
   "outputs": [],
   "source": [
    "for i in range(n):\n",
    "    arr[i][7] = arr[i][5] - arr[i][1]\n",
    "    arr[i][6] = arr[i][7] - arr[i][2]"
   ]
  },
  {
   "cell_type": "code",
   "execution_count": 14,
   "id": "1a66e9a3",
   "metadata": {},
   "outputs": [
    {
     "data": {
      "text/plain": [
       "[[1, 0, 10, 0, 0, 24, 14, 24],\n",
       " [2, 3, 6, 0, 2, 20, 11, 17],\n",
       " [3, 8, 4, 0, 5, 22, 10, 14],\n",
       " [4, 5, 3, 0, 2, 16, 8, 11],\n",
       " [5, 1, 1, 0, 1, 3, 1, 2]]"
      ]
     },
     "execution_count": 14,
     "metadata": {},
     "output_type": "execute_result"
    }
   ],
   "source": [
    "arr"
   ]
  },
  {
   "cell_type": "code",
   "execution_count": null,
   "id": "0fa95164",
   "metadata": {},
   "outputs": [],
   "source": []
  }
 ],
 "metadata": {
  "kernelspec": {
   "display_name": "Python 3 (ipykernel)",
   "language": "python",
   "name": "python3"
  },
  "language_info": {
   "codemirror_mode": {
    "name": "ipython",
    "version": 3
   },
   "file_extension": ".py",
   "mimetype": "text/x-python",
   "name": "python",
   "nbconvert_exporter": "python",
   "pygments_lexer": "ipython3",
   "version": "3.9.7"
  }
 },
 "nbformat": 4,
 "nbformat_minor": 5
}
