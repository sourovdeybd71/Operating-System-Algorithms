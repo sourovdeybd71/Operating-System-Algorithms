{
 "cells": [
  {
   "cell_type": "code",
   "execution_count": 1,
   "id": "133f94d1",
   "metadata": {},
   "outputs": [
    {
     "name": "stdout",
     "output_type": "stream",
     "text": [
      "Number of process: 3\n"
     ]
    }
   ],
   "source": [
    "n= int(input(\"Number of process: \"))"
   ]
  },
  {
   "cell_type": "code",
   "execution_count": 2,
   "id": "9e2646d9",
   "metadata": {},
   "outputs": [
    {
     "data": {
      "text/plain": [
       "[[0, 0, 0, 0, 0, 0, 0], [0, 0, 0, 0, 0, 0, 0], [0, 0, 0, 0, 0, 0, 0]]"
      ]
     },
     "execution_count": 2,
     "metadata": {},
     "output_type": "execute_result"
    }
   ],
   "source": [
    "arr=[[0 for i in range(7)] for j in range(n)]\n",
    "arr"
   ]
  },
  {
   "cell_type": "markdown",
   "id": "4a5623fe",
   "metadata": {},
   "source": [
    "**p_id= Proccess id**<br>\n",
    "**at= Arrival Time**<br>\n",
    "**bt= Burst Time**<br>\n",
    "**ct= Completion Time**<br>\n",
    "**tt= Turnaround Time**<br>\n",
    "**rt= Response Time**<br>"
   ]
  },
  {
   "cell_type": "code",
   "execution_count": 3,
   "id": "3f8a254e",
   "metadata": {},
   "outputs": [
    {
     "name": "stdout",
     "output_type": "stream",
     "text": [
      "1 6 5\n",
      "2 1 4\n",
      "3 7 6\n"
     ]
    }
   ],
   "source": [
    "for i in range(n):\n",
    "    p_id, at, bt= input().split()\n",
    "    arr[i][0]=int(p_id)\n",
    "    arr[i][1]=int(at)\n",
    "    arr[i][2]=int(bt)"
   ]
  },
  {
   "cell_type": "code",
   "execution_count": 4,
   "id": "f625ca46",
   "metadata": {},
   "outputs": [
    {
     "data": {
      "text/plain": [
       "[[1, 6, 5, 0, 0, 0, 0], [2, 1, 4, 0, 0, 0, 0], [3, 7, 6, 0, 0, 0, 0]]"
      ]
     },
     "execution_count": 4,
     "metadata": {},
     "output_type": "execute_result"
    }
   ],
   "source": [
    "arr"
   ]
  },
  {
   "cell_type": "code",
   "execution_count": 5,
   "id": "6e372048",
   "metadata": {},
   "outputs": [
    {
     "data": {
      "text/plain": [
       "[[2, 1, 4, 0, 0, 0, 0], [1, 6, 5, 0, 0, 0, 0], [3, 7, 6, 0, 0, 0, 0]]"
      ]
     },
     "execution_count": 5,
     "metadata": {},
     "output_type": "execute_result"
    }
   ],
   "source": [
    "arr=sorted(arr, key=lambda x:x[1])\n",
    "arr"
   ]
  },
  {
   "cell_type": "code",
   "execution_count": 6,
   "id": "ea6b86d0",
   "metadata": {},
   "outputs": [],
   "source": [
    "sum_rt=0\n",
    "sum_ct=0\n",
    "sum_wt=0\n",
    "sum_tt=0\n",
    "current_time=0\n",
    "\n",
    "for i in range(n):\n",
    "    at=arr[i][1]\n",
    "    bt=arr[i][2]\n",
    "    if current_time<at:\n",
    "        current_time=at\n",
    "    starting_time=current_time\n",
    "    ct=starting_time+bt\n",
    "    arr[i][3]=starting_time-at #RT\n",
    "    arr[i][4]=ct\n",
    "    arr[i][6]=ct-at #TT\n",
    "    arr[i][5]=arr[i][6]-bt #WT\n",
    "    current_time=ct\n",
    "    \n",
    "    sum_rt=sum_rt+arr[i][3]\n",
    "    sum_ct=sum_ct+arr[i][4]\n",
    "    sum_wt=sum_wt+arr[i][5]\n",
    "    sum_tt=sum_tt+arr[i][6]\n",
    "    "
   ]
  },
  {
   "cell_type": "code",
   "execution_count": 7,
   "id": "22061b0f",
   "metadata": {},
   "outputs": [
    {
     "data": {
      "text/plain": [
       "[[2, 1, 4, 0, 5, 0, 4], [1, 6, 5, 0, 11, 0, 5], [3, 7, 6, 4, 17, 4, 10]]"
      ]
     },
     "execution_count": 7,
     "metadata": {},
     "output_type": "execute_result"
    }
   ],
   "source": [
    "arr"
   ]
  },
  {
   "cell_type": "code",
   "execution_count": 8,
   "id": "72113dba",
   "metadata": {},
   "outputs": [
    {
     "name": "stdout",
     "output_type": "stream",
     "text": [
      "Average Response Time:  1.3333333333333333\n",
      "Average Completion Time:  11.0\n",
      "Average Waiting Time:  1.3333333333333333\n",
      "Average Turaround Time:  6.333333333333333\n"
     ]
    }
   ],
   "source": [
    "print(\"Average Response Time: \",sum_rt/n)\n",
    "print(\"Average Completion Time: \",sum_ct/n)\n",
    "print(\"Average Waiting Time: \",sum_wt/n)\n",
    "print(\"Average Turaround Time: \",sum_tt/n)"
   ]
  },
  {
   "cell_type": "code",
   "execution_count": null,
   "id": "b2bd916d",
   "metadata": {},
   "outputs": [],
   "source": []
  }
 ],
 "metadata": {
  "kernelspec": {
   "display_name": "Python 3 (ipykernel)",
   "language": "python",
   "name": "python3"
  },
  "language_info": {
   "codemirror_mode": {
    "name": "ipython",
    "version": 3
   },
   "file_extension": ".py",
   "mimetype": "text/x-python",
   "name": "python",
   "nbconvert_exporter": "python",
   "pygments_lexer": "ipython3",
   "version": "3.9.7"
  }
 },
 "nbformat": 4,
 "nbformat_minor": 5
}
